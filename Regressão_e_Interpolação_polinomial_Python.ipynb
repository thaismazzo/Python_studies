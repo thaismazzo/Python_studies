{
  "nbformat": 4,
  "nbformat_minor": 0,
  "metadata": {
    "colab": {
      "name": "Regressão e Interpolação polinomial Python",
      "provenance": [],
      "collapsed_sections": []
    },
    "kernelspec": {
      "name": "python3",
      "display_name": "Python 3"
    },
    "language_info": {
      "name": "python"
    }
  },
  "cells": [
    {
      "cell_type": "markdown",
      "metadata": {
        "id": "xtllMMqn79Fg"
      },
      "source": [
        "# Questão 01\n",
        "\n",
        "O coeficiente de saturação do oxigênio dissolvido em água fresca pode ser calculado pela equação:\n",
        "\n",
        "$ln_{osf} = -139,34411 + \\frac{1,575701*10^{5}}{T_{a}} - \\frac{6,642308*10^{7}}{T^2_{a}} + \\frac{1,243800*10^{10}}{T^3_{a}} - \\frac{8,621949*10^{11}}{T^4_{a}}$\n",
        "\n",
        "Onde $o_{sf}$ é a concentração de saturação do oxigênio dissolvido em água fresca a 1 atm (mg/L) e $T_{a}$ é a temperatura $(ºC).$ De acordo com essa qeuação, a saturação diminui com o aumento da temperatura. Para águas naturais típicas em climas temperados, a equação pode ser usada para determinar a variação da concentração de oxigênio de 14,621 mg/L a 0ºC até 6,413 mg/L a 40ºC.\n",
        "\n",
        "Os seguintes dados experimentais de concentração de oxigênio dissolvido na água fresca em função da temperatura no nivel do mar são dados na tabela abaixo.\n",
        "\n",
        "![imagem_2021-05-28_233313.png](data:image/png;base64,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)\n",
        "\n",
        "a) Para esse conjunto de dados, obtenha o polinômio interpolador que permite calcular a concentração de saturação do oxigênio em função da temperatura $T.$ Qual é  grau do polinômio ?\n",
        "\n",
        "b) A partir dos dados da tabela, obtenha uma regressão polinomial de $3º grau$  para descrever o comportamento da concentração de saturação do oxigênio em função da temperatura $T = 10ºC.$ Compare o resultado da regressão polinomial com a função original (Equação 01)\n",
        "\n",
        "c) Use cada abordagem para prever a concentração de oxigênio em $T = 10ºC$ e compare com a equação apresentada acima e defina, com base no erro absoluto, qual o melhor modelo \n",
        "\n",
        "d) Faça o gráfico de cada função, com T variando entre 0 e 40ºC.\n"
      ]
    },
    {
      "cell_type": "markdown",
      "metadata": {
        "id": "HZU1jZUhq4c0"
      },
      "source": [
        "##Bibliotecas e Funções"
      ]
    },
    {
      "cell_type": "code",
      "metadata": {
        "id": "UlfRDBeGXZ33"
      },
      "source": [
        "#Bibliotecas\n",
        "import numpy as np\n",
        "import pandas as pd\n",
        "import matplotlib.pyplot as plt\n",
        "from numpy.polynomial import Polynomial as P"
      ],
      "execution_count": null,
      "outputs": []
    },
    {
      "cell_type": "code",
      "metadata": {
        "id": "qiXXtE3WPw0u"
      },
      "source": [
        "# Definição da Equação apresentada no Exercicio 07\n",
        "def f(x): # Função retirada do Projeto 4\n",
        "  return np.exp(-139.34411+((1.575701*(10**5))/x)-((6.642308*(10**7))/(x**2))+((1.243800*(10**10))/(x**3))-((8.621949*(10**11))/(x**4)))"
      ],
      "execution_count": null,
      "outputs": []
    },
    {
      "cell_type": "markdown",
      "metadata": {
        "id": "SzyS0kyfXpvy"
      },
      "source": [
        "##Forma Polinomial"
      ]
    },
    {
      "cell_type": "code",
      "metadata": {
        "id": "-7t9dxEwIBys",
        "colab": {
          "base_uri": "https://localhost:8080/",
          "height": 236
        },
        "outputId": "50bafef6-7924-4876-8414-b3c05dd0efaa"
      },
      "source": [
        "#LETRA A \n",
        "# Regressão Polinomial (ou Vanderval)\n",
        "# Este bloco irá gerar as saidas necessarias para encontrarmos o polinomio desejado \n",
        "def sistemaVander(x,y): #a partir dos dados de x e y, vamos obter as matrizes A e B\n",
        "  n = len(x) #tamanho da matriz (n também é o grau do polinomio)\n",
        "  A = np.empty((n,n))\n",
        "  b = np.empty((n))\n",
        "  for i in range(0,n):\n",
        "    A[i,0] = 1\n",
        "    for j in range(1,n):\n",
        "      A[i,j] = A[i,j-1]*x[i] #aplicando o metodo\n",
        "    b[i] = y[i]\n",
        "  return A, b\n",
        "\n",
        "Tabela = np.array([[0,8,16,24,32,40], #dados fornecidos\n",
        "                   [14.62,11.84,9.87,8.42,7.31,6.41]])\n",
        "H = Tabela[0] \n",
        "L = Tabela[1]\n",
        "\n",
        "# Dados de Saida\n",
        "A,b = sistemaVander(H,L) \n",
        "Solução = np.linalg.solve(A,b)\n",
        "\n",
        "for i in range(len(Solução)):\n",
        "  print(\"Coeficientes \"+str(i)+\":\",Solução[i]) # Colocando todas as casa decimais\n",
        "print()\n",
        "#Polinomio Total\n",
        "# Bloco responsavel por escrever o polinomio de maneira automatica\n",
        "\n",
        "print(\"Como temos 6 dados fornecidos, n será 5, ou seja, teremos um polinômio de 5° grau, como mostrado abaixo.\")\n",
        "print()\n",
        "Polinomio = P(Solução)\n",
        "print(\"Polinomio interpolador da Questão A:\")\n",
        "Polinomio\n",
        "\n"
      ],
      "execution_count": null,
      "outputs": [
        {
          "output_type": "stream",
          "text": [
            "Coeficientes 0: 14.62\n",
            "Coeficientes 1: -0.41514583333333244\n",
            "Coeficientes 2: 0.009772135416666482\n",
            "Coeficientes 3: -0.00018229166666665364\n",
            "Coeficientes 4: 2.3396809895829562e-06\n",
            "Coeficientes 5: -1.5258789062496192e-08\n",
            "\n",
            "Como temos 6 dados fornecidos, n será 5, ou seja, teremos um polinômio de 5° grau, como mostrado abaixo.\n",
            "\n",
            "Polinomio interpolador da Questão A:\n"
          ],
          "name": "stdout"
        },
        {
          "output_type": "execute_result",
          "data": {
            "text/latex": "$x \\mapsto \\text{14.62} - \\text{0.41514583333333244}\\,x + \\text{0.009772135416666482}\\,x^{2} - \\text{0.00018229166666665364}\\,x^{3} + \\text{2.3396809895829562e-06}\\,x^{4} - \\text{1.5258789062496192e-08}\\,x^{5}$",
            "text/plain": [
              "Polynomial([ 1.46200000e+01, -4.15145833e-01,  9.77213542e-03, -1.82291667e-04,\n",
              "        2.33968099e-06, -1.52587891e-08], domain=[-1,  1], window=[-1,  1])"
            ]
          },
          "metadata": {
            "tags": []
          },
          "execution_count": 6
        }
      ]
    },
    {
      "cell_type": "code",
      "metadata": {
        "colab": {
          "base_uri": "https://localhost:8080/",
          "height": 141
        },
        "id": "BU3IP5IKwgh_",
        "outputId": "79f584c8-a097-4c15-fb91-33eb58b13b9f"
      },
      "source": [
        "#Letra B\n",
        "#Vamos usar o método da regressão polinomial, definido já na letra A\n",
        "#Bloco com os dados para geração de equação do terceiro grau\n",
        "#Pegando os dados de Temperatura na Tabela e deixando 3 variaveis com 4 pontos apenas (se n é 3, são necessários 4 pontos)\n",
        "# Com apenas o método da regressão polinomial, como são necessários 4 pontos, e temos 6, fazer uma escolha correta de dados, também\n",
        "#é essencial para um bom resultado final. Logo, vamos comparar 3 equações, feitas com 4 pontos distintos, para analisar\n",
        "#qual seria a melhor escolha dentre essas 3.\n",
        "\n",
        "primeira_equação_X =H[0:4]\n",
        "segunda_equação_X = H[1:5]\n",
        "terceira_equação_X = H[2:6]\n",
        "#Pegando os dados de Temperatura na Tabela e deixando 3 variaveis com 4 pontos apenas\n",
        "primeira_equação_Y = L[0:4]\n",
        "segunda_equação_Y = L[1:5]\n",
        "terceira_equação_Y = L[2:6]\n",
        "#Resolvendo as matrizes pelo método já definido\n",
        "A1,B1 = sistemaVander(primeira_equação_X,primeira_equação_Y)\n",
        "A2,B2 = sistemaVander(segunda_equação_X,segunda_equação_Y)\n",
        "A3,B3 = sistemaVander(terceira_equação_X,terceira_equação_Y)\n",
        "resultado_1 = np.linalg.solve(A1,B1) #coletando resultados \n",
        "resultado_2 = np.linalg.solve(A2,B2)\n",
        "resultado_3 = np.linalg.solve(A3,B3)\n",
        "#Resultado\n",
        "resultado_1 = P(resultado_1)\n",
        "resultado_2 = P(resultado_2)\n",
        "resultado_3 = P(resultado_3)\n",
        "todos_os_resultados = np.array([resultado_1(10),resultado_2(10),resultado_3(10)])\n",
        "todos_os_resultados = todos_os_resultados.reshape(3,1)\n",
        "# ERRO ABSOLUTO\n",
        "validacao1 = np.abs(resultado_1(10) - f(10+273.15))\n",
        "validacao2 = np.abs(resultado_2(10) - f(10+273.15))\n",
        "validacao3 = np.abs(resultado_3(10) - f(10+273.15))\n",
        "\n",
        "# Tabelas de Dados com os Pandas\n",
        "novo = pd.DataFrame([resultado_1,resultado_2,resultado_3])\n",
        "novo = novo.rename(columns={0:'x^0',1:'x^1',2:'x^2',3:'x^3'})\n",
        "novo = novo.rename(index={0:\"Equação 01\",1:\"Equação 02\",2:\"Equação 03\"})\n",
        "novo.insert(4,\"Resultado (10)\",todos_os_resultados,True)\n",
        "comparacao = [validacao1,validacao2,validacao3]\n",
        "novo['Comparação'] = comparacao\n",
        "novo\n",
        "\n",
        "\n",
        "#Observa-se que a melhor equação e os melhores pontos, de acordo com a função de base e com a\n",
        "#coluna de 'comparação', foi a equação 2, por resultar em uma diferença de valor, para 10°C, menor."
      ],
      "execution_count": null,
      "outputs": [
        {
          "output_type": "execute_result",
          "data": {
            "text/html": [
              "<div>\n",
              "<style scoped>\n",
              "    .dataframe tbody tr th:only-of-type {\n",
              "        vertical-align: middle;\n",
              "    }\n",
              "\n",
              "    .dataframe tbody tr th {\n",
              "        vertical-align: top;\n",
              "    }\n",
              "\n",
              "    .dataframe thead th {\n",
              "        text-align: right;\n",
              "    }\n",
              "</style>\n",
              "<table border=\"1\" class=\"dataframe\">\n",
              "  <thead>\n",
              "    <tr style=\"text-align: right;\">\n",
              "      <th></th>\n",
              "      <th>x^0</th>\n",
              "      <th>x^1</th>\n",
              "      <th>x^2</th>\n",
              "      <th>x^3</th>\n",
              "      <th>Resultado (10)</th>\n",
              "      <th>Comparação</th>\n",
              "    </tr>\n",
              "  </thead>\n",
              "  <tbody>\n",
              "    <tr>\n",
              "      <th>Equação 01</th>\n",
              "      <td>14.62</td>\n",
              "      <td>-0.410208</td>\n",
              "      <td>0.008594</td>\n",
              "      <td>-0.000094</td>\n",
              "      <td>11.282891</td>\n",
              "      <td>0.005057</td>\n",
              "    </tr>\n",
              "    <tr>\n",
              "      <th>Equação 02</th>\n",
              "      <td>14.51</td>\n",
              "      <td>-0.385000</td>\n",
              "      <td>0.006875</td>\n",
              "      <td>-0.000059</td>\n",
              "      <td>11.288906</td>\n",
              "      <td>0.000959</td>\n",
              "    </tr>\n",
              "    <tr>\n",
              "      <th>Equação 03</th>\n",
              "      <td>14.31</td>\n",
              "      <td>-0.357917</td>\n",
              "      <td>0.005703</td>\n",
              "      <td>-0.000042</td>\n",
              "      <td>11.258828</td>\n",
              "      <td>0.029119</td>\n",
              "    </tr>\n",
              "  </tbody>\n",
              "</table>\n",
              "</div>"
            ],
            "text/plain": [
              "              x^0       x^1       x^2       x^3  Resultado (10)  Comparação\n",
              "Equação 01  14.62 -0.410208  0.008594 -0.000094       11.282891    0.005057\n",
              "Equação 02  14.51 -0.385000  0.006875 -0.000059       11.288906    0.000959\n",
              "Equação 03  14.31 -0.357917  0.005703 -0.000042       11.258828    0.029119"
            ]
          },
          "metadata": {
            "tags": []
          },
          "execution_count": 7
        }
      ]
    },
    {
      "cell_type": "code",
      "metadata": {
        "colab": {
          "base_uri": "https://localhost:8080/",
          "height": 38
        },
        "id": "8eC3dxvHKcNY",
        "outputId": "99e6f3c1-a860-4821-b95f-2844e2f4c27f"
      },
      "source": [
        "#Polinomio da Equação 01\n",
        "resultado_1\n"
      ],
      "execution_count": null,
      "outputs": [
        {
          "output_type": "execute_result",
          "data": {
            "text/latex": "$x \\mapsto \\text{14.62} - \\text{0.41020833333333306}\\,x + \\text{0.008593749999999966}\\,x^{2} - \\text{9.44010416666657e-05}\\,x^{3}$",
            "text/plain": [
              "Polynomial([ 1.46200000e+01, -4.10208333e-01,  8.59375000e-03, -9.44010417e-05], domain=[-1,  1], window=[-1,  1])"
            ]
          },
          "metadata": {
            "tags": []
          },
          "execution_count": 5
        }
      ]
    },
    {
      "cell_type": "code",
      "metadata": {
        "colab": {
          "base_uri": "https://localhost:8080/",
          "height": 38
        },
        "id": "BdP0CoxBF687",
        "outputId": "5d908b76-57fe-4b96-ef76-6970dc121174"
      },
      "source": [
        "#Polinomio da Equação 02\n",
        "resultado_2"
      ],
      "execution_count": null,
      "outputs": [
        {
          "output_type": "execute_result",
          "data": {
            "text/latex": "$x \\mapsto \\text{14.510000000000005} - \\text{0.38500000000000084}\\,x + \\text{0.006875000000000044}\\,x^{2} - \\text{5.85937500000007e-05}\\,x^{3}$",
            "text/plain": [
              "Polynomial([ 1.451000e+01, -3.850000e-01,  6.875000e-03, -5.859375e-05], domain=[-1,  1], window=[-1,  1])"
            ]
          },
          "metadata": {
            "tags": []
          },
          "execution_count": 6
        }
      ]
    },
    {
      "cell_type": "code",
      "metadata": {
        "colab": {
          "base_uri": "https://localhost:8080/",
          "height": 38
        },
        "id": "flukfwoHGBSu",
        "outputId": "5257fce7-12ed-4487-c3d6-7460a9151a88"
      },
      "source": [
        "#Polinomioda Equação 03\n",
        "resultado_3"
      ],
      "execution_count": null,
      "outputs": [
        {
          "output_type": "execute_result",
          "data": {
            "text/latex": "$x \\mapsto \\text{14.309999999999986} - \\text{0.3579166666666651}\\,x + \\text{0.005703124999999941}\\,x^{2} - \\text{4.231770833333263e-05}\\,x^{3}$",
            "text/plain": [
              "Polynomial([ 1.43100000e+01, -3.57916667e-01,  5.70312500e-03, -4.23177083e-05], domain=[-1,  1], window=[-1,  1])"
            ]
          },
          "metadata": {
            "tags": []
          },
          "execution_count": 7
        }
      ]
    },
    {
      "cell_type": "code",
      "metadata": {
        "id": "vqrz-K7yNuJj",
        "colab": {
          "base_uri": "https://localhost:8080/",
          "height": 158
        },
        "outputId": "58092e45-9026-4028-bff9-7a1327b7f306"
      },
      "source": [
        "#LETRA C\n",
        "#METODO DE REGRESSAO POLINOMIAL\n",
        "Tabela = np.array([[0,8,16,24,32,40],\n",
        "                   [14.62,11.84,9.87,8.42,7.31,6.41]])\n",
        "X = Tabela[0] #coletando os dados em x\n",
        "Y = Tabela[1] #coletando os dados em y\n",
        "\n",
        "A,b = sistemaVander(X,Y) \n",
        "Solução = np.linalg.solve(A,b) #resolvendo\n",
        "\n",
        "Polinomio = P(Solução)\n",
        "regressao = Polinomio(10)\n",
        "erro_regressao = np.abs(regressao - f(10+273.15)) #definindo o erro da regressao\n",
        "\n",
        "# MÉTODO DE LAGRANGE\n",
        "# Resposta deste bloco esta por via grafica, necessario pensar em retirar os coeficentes do codigo\n",
        "def Lagrange(xp,x,y,x_grau):\n",
        "  yp = 0 \n",
        "  for k in range(0,x_grau+1):\n",
        "    p = 1\n",
        "    for j in range(0,x_grau+1):\n",
        "      if k!=j:\n",
        "        p = p*(xp - x[j])/(x[k]-x[j]) #aplicando o método em si\n",
        "    yp = yp + p * y[k] #acumulando as variaveis\n",
        "  return yp #resultado final\n",
        "\n",
        "Tabela = np.array([[0,8,16,24,32,40],\n",
        "                   [14.62,11.84,9.87,8.42,7.31,6.41]])\n",
        "x = Tabela[0] \n",
        "y = Tabela[1]\n",
        "\n",
        "x_grau = 2 #grau do polinomio\n",
        "xp = 10 #valor de temperatura (eixo x) inicial \n",
        "\n",
        "\n",
        "\n",
        "yp = Lagrange(xp,x,y,x_grau)\n",
        "print(yp)\n",
        "erro_lagrange = np.abs(yp - f(10+273.15)) #erro para lagrange\n",
        "t = np.arange(0,50)\n",
        "yt = []\n",
        "for i in t:\n",
        "  yt.append(Lagrange(i,x,y,x_grau))\n",
        "\n",
        "erro_funcao = (f(10+273.15) - f(10+273.15)) #erro para a funcao original (deve ser 0, pois ela nao apresenta diferenças)\n",
        "data = {'Resultado Final': [yp,regressao,f(10+273.15)],\n",
        "        'Erro absoluto': [erro_regressao,erro_lagrange,erro_funcao]}\n",
        "#distribuindo os resultados em uma tabela\n",
        "tabela = pd.DataFrame(data)\n",
        "tabela = tabela.rename(index={0:'Lagrange',1:'Regressão',2:'Função Original'})\n",
        "tabela\n",
        "\n",
        "# Como os resultados são muito iguais, o erro absoluto, para esta temperatura, através do metodo Lagrange e Regressão Polinomial\n",
        "# é igual para ambos. Logo, nesta temperatura, ambos métodos são eficientes."
      ],
      "execution_count": null,
      "outputs": [
        {
          "output_type": "stream",
          "text": [
            "11.271562499999998\n"
          ],
          "name": "stdout"
        },
        {
          "output_type": "execute_result",
          "data": {
            "text/html": [
              "<div>\n",
              "<style scoped>\n",
              "    .dataframe tbody tr th:only-of-type {\n",
              "        vertical-align: middle;\n",
              "    }\n",
              "\n",
              "    .dataframe tbody tr th {\n",
              "        vertical-align: top;\n",
              "    }\n",
              "\n",
              "    .dataframe thead th {\n",
              "        text-align: right;\n",
              "    }\n",
              "</style>\n",
              "<table border=\"1\" class=\"dataframe\">\n",
              "  <thead>\n",
              "    <tr style=\"text-align: right;\">\n",
              "      <th></th>\n",
              "      <th>Resultado Final</th>\n",
              "      <th>Erro absoluto</th>\n",
              "    </tr>\n",
              "  </thead>\n",
              "  <tbody>\n",
              "    <tr>\n",
              "      <th>Lagrange</th>\n",
              "      <td>11.271562</td>\n",
              "      <td>0.002613</td>\n",
              "    </tr>\n",
              "    <tr>\n",
              "      <th>Regressão</th>\n",
              "      <td>11.285334</td>\n",
              "      <td>0.016385</td>\n",
              "    </tr>\n",
              "    <tr>\n",
              "      <th>Função Original</th>\n",
              "      <td>11.287947</td>\n",
              "      <td>0.000000</td>\n",
              "    </tr>\n",
              "  </tbody>\n",
              "</table>\n",
              "</div>"
            ],
            "text/plain": [
              "                 Resultado Final  Erro absoluto\n",
              "Lagrange               11.271562       0.002613\n",
              "Regressão              11.285334       0.016385\n",
              "Função Original        11.287947       0.000000"
            ]
          },
          "metadata": {
            "tags": []
          },
          "execution_count": 8
        }
      ]
    },
    {
      "cell_type": "code",
      "metadata": {
        "colab": {
          "base_uri": "https://localhost:8080/",
          "height": 888
        },
        "id": "0jXPmM84TR8b",
        "outputId": "afe5d27f-797e-4b83-b1de-447f140d543c"
      },
      "source": [
        "#LETRA D \n",
        "\n",
        "#Gráfico para a função original\n",
        "eixox = np.arange(273.15,(50+273.15))\n",
        "plt.plot(eixox,(f(eixox)))\n",
        "dados = (x+273.15)\n",
        "plt.plot(dados,y,'ro')\n",
        "plt.title(\"Gráfico para a Função Original\")\n",
        "plt.xlabel(\"Saturação de oxigênio (mg/L)\")\n",
        "plt.ylabel(\"Temperatura (K)\")\n",
        "plt.grid()\n",
        "plt.show()\n",
        "#Gráfico para a função do método de Regressão Polinomial\n",
        "print()\n",
        "u = np.linspace(0,40,100)\n",
        "for i in range(100):ax = plt.plot(u,Polinomio(u),lw=2) # Uma coisa interessante trocando grau_3 para polinomio todos os pontos são conectados\n",
        "\n",
        "# plt.legend(loc=\"upper left\")\n",
        "plt.plot(H,L,'ro')\n",
        "# plt.subplot(x,y)\n",
        "plt.title(\"Gráfico para o método de Regressão Polinomial\")\n",
        "plt.xlabel(\"Saturação de oxigênio (mg/L)\")\n",
        "plt.ylabel(\"Temperatura (°C)\")\n",
        "plt.grid()\n",
        "plt.show()\n",
        "print()\n",
        "#Gráfico para a função do método de Lagrange\n",
        "plt.plot(t,yt,'b-')\n",
        "plt.plot(x,y,'ro')\n",
        "plt.plot(xp,yp,'g*')\n",
        "plt.title(\"Gráfico para o método de Lagrange\")\n",
        "plt.xlabel(\"Saturação de oxigênio (mg/L)\")\n",
        "plt.ylabel(\"Temperatura (°C)\")\n",
        "plt.grid()\n",
        "plt.show()\n",
        "# print()\n"
      ],
      "execution_count": null,
      "outputs": [
        {
          "output_type": "display_data",
          "data": {
            "image/png": "[encoded data removed]",
            "text/plain": [
              "<Figure size 432x288 with 1 Axes>"
            ]
          },
          "metadata": {
            "tags": [],
            "needs_background": "light"
          }
        },
        {
          "output_type": "stream",
          "text": [
            "\n"
          ],
          "name": "stdout"
        },
        {
          "output_type": "display_data",
          "data": {
            "image/png": "[encoded data removed]",
            "text/plain": [
              "<Figure size 432x288 with 1 Axes>"
            ]
          },
          "metadata": {
            "tags": [],
            "needs_background": "light"
          }
        },
        {
          "output_type": "stream",
          "text": [
            "\n"
          ],
          "name": "stdout"
        },
        {
          "output_type": "display_data",
          "data": {
            "image/png": "[encoded data removed]",
            "text/plain": [
              "<Figure size 432x288 with 1 Axes>"
            ]
          },
          "metadata": {
            "tags": [],
            "needs_background": "light"
          }
        }
      ]
    }
  ]
}