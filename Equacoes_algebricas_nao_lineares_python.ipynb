{
  "nbformat": 4,
  "nbformat_minor": 0,
  "metadata": {
    "colab": {
      "name": "Equacoes_algebricas_nao_lineares_python.ipynb",
      "provenance": [],
      "collapsed_sections": []
    },
    "kernelspec": {
      "name": "python3",
      "display_name": "Python 3"
    },
    "language_info": {
      "name": "python"
    }
  },
  "cells": [
    {
      "cell_type": "markdown",
      "metadata": {
        "id": "5U2dsB-R2RU_"
      },
      "source": [
        "#***Sistema de Equações Algébricas Não-Lineares***"
      ]
    },
    {
      "cell_type": "markdown",
      "metadata": {
        "id": "m8NVRoFR5o8N"
      },
      "source": [
        "##Questão 01\n",
        "\n",
        "O coeficiente de saturação de oxigênio dissolvido em água fresca pode ser calculado pela equação (ALPHA,1992).\n",
        "\n",
        "$ln_{osf} =-139,3441 + \\frac{1,575701*10^{5}}{T_{a}}-\\frac{8,621949*10^{7}}{T^2_{a}}+\\frac{1,243800*10^{10}}{T^3_{a}}-\\frac{8,621949*10^{11}}{T^4_{a}}$\n",
        "\n",
        "Onde $o_{sf}$ é a concentração de saturação de oxigênio dissolvido em água fresca a 1 atm (mg/L)e $T_{a}$ é a temperatura absoluta (K).Lembre-se que $T_{a} = T + 273,15$, onde $T$ é a temperatura $(ºC)$. De acordo com essa equação, a saturação diminui com o aumento da temperatura. Para águas naturais típicas em climas temperados, a equação pode ser usada para determinar a variação da concentração de oxigênio de 14,621 mg/L a 0ºC até 6,413 mg/L a 40ºC. Dado um valor da concentração de oxigênio, essa fórmula os métodos da bissecção e da falsa posição podem ser usados para determinar a temperatura em ºC.\n",
        "\n",
        "a) Desenvolva e teste o algoritmo de Newton-Raphson para determinar a temperatura como função de uma dada concentração de oxigênio até um erro absoluto pré-especificado como em (a). Dada as aproximações iniciais de $0ºC$ e $40ºC$, teste seu programa para um erro absoluto de 0,05ºC e os seguintes casos: $o_{sf}=8,10\\space e \\space  12$mg/L. Obs.: Para esse caso, use o erro absoluto, apresentado no exercício passado.\n",
        "\n",
        "b) Compare os resultados com os do exercício passado.\n",
        "\n"
      ]
    },
    {
      "cell_type": "code",
      "metadata": {
        "id": "t1AUnPkMfeq8"
      },
      "source": [
        "#Bibliotecas\n",
        "import numpy as np\n",
        "import math\n",
        "import matplotlib.pyplot as plt\n",
        "from scipy.optimize import fsolve\n",
        "import time"
      ],
      "execution_count": null,
      "outputs": []
    },
    {
      "cell_type": "code",
      "metadata": {
        "colab": {
          "base_uri": "https://localhost:8080/",
          "height": 51
        },
        "id": "ALI8sMhvWwPi",
        "outputId": "9bc57332-3d77-4ddf-d81a-714823ae13c4"
      },
      "source": [
        "# # Código para encontrar a derivada da equação ALPHA\n",
        "from sympy import*\n",
        "f,x = symbols('f x')\n",
        "init_printing(use_unicode= True)\n",
        "f = (-139.34411+((1.575701*(10**5))/x)-((6.642308*(10**7))/(x**2))+((1.243800*(10**10))/(x**3))-((8.621949*(10**11))/(x**4)))-ln(8)\n",
        "diff(f,x)"
      ],
      "execution_count": null,
      "outputs": [
        {
          "output_type": "execute_result",
          "data": {
            "image/png": "[encoded data removed]",
            "text/latex": "$\\displaystyle - \\frac{157570.1}{x^{2}} + \\frac{132846160.0}{x^{3}} - \\frac{37314000000.0}{x^{4}} + \\frac{3448779600000.0}{x^{5}}$",
            "text/plain": [
              "  157570.1   132846160.0   37314000000.0   3448779600000.0\n",
              "- ──────── + ─────────── - ───────────── + ───────────────\n",
              "      2            3              4                5      \n",
              "     x            x              x                x       "
            ]
          },
          "metadata": {
            "tags": []
          },
          "execution_count": 4
        }
      ]
    },
    {
      "cell_type": "code",
      "metadata": {
        "id": "5nxWG3UYCnK2",
        "colab": {
          "base_uri": "https://localhost:8080/"
        },
        "outputId": "7722fcb8-a6a7-4000-a8b9-23ce366b5c9b"
      },
      "source": [
        "# Método de NR\n",
        "\n",
        "import time as t\n",
        "tempo  = t.time()\n",
        "#define-se a função de base, dada no exercicio para a concentração de 8mg/L\n",
        "def f8(x):\n",
        "  f = (-139.34411+((1.575701*(10**5))/x)-((6.642308*(10**7))/(x**2))+((1.243800*(10**10))/(x**3))-((8.621949*(10**11))/(x**4)))-np.log(8)\n",
        "  return f\n",
        "# define-se a derivada dessa mesma função, para cálculos posteriores do método de Newton Raphson\n",
        "def g3linha(x):\n",
        "  f3_linha = (-157570.1/x**2)+(132846160.0/x**3)-(37314000000.0/x**4)+(3448779600000.0/x**5)\n",
        "  return f3_linha\n",
        "\n",
        "\n",
        "T0 = 273 #ponto inicial\n",
        "Tf = T0 + 40 #ponto final\n",
        "eps1 = 0.05 \n",
        "eps2 = eps1\n",
        "maxiter = 100 # Observar aqui \n",
        "lista   = [T0]\n",
        "iter    = 0\n",
        "\n",
        "# Método de Newton / Concentração 8\n",
        "while (math.fabs(f8(T0))>eps1) and (iter<=maxiter): #inicio do laço\n",
        "  print('[',round(T0,3),']')\n",
        "  xk = T0 - f8(T0)/g3linha(T0) #novas iterações \n",
        "  lista.append(xk) #armazenamento\n",
        "  if (math.fabs(f8(T0))<eps1) or (math.fabs(xk-T0)<eps2): #critério de parada\n",
        "    break;\n",
        "  else: #reajuste\n",
        "    T0 = xk  \n",
        "  iter = iter + 1\n",
        "#prints finais\n",
        "print(\"Temperatura Desejada:\",round(xk,3))\n",
        "print('Número de iterações: ',iter)\n",
        "print('Precisao |f(xk)|: ',math.fabs(f8(xk)))\n",
        "\n",
        "tempoExec = t.time() - tempo\n",
        "print(f'Tempo de execução: {round(tempoExec,5)} segundos')\n"
      ],
      "execution_count": null,
      "outputs": [
        {
          "output_type": "stream",
          "text": [
            "[ 273 ]\n",
            "[ 294.396 ]\n",
            "Temperatura Desejada: 299.71\n",
            "Número de iterações:  2\n",
            "Precisao |f(xk)|:  0.003971163460440241\n",
            "Tempo de execução: 0.00478 segundos\n"
          ],
          "name": "stdout"
        }
      ]
    },
    {
      "cell_type": "code",
      "metadata": {
        "colab": {
          "base_uri": "https://localhost:8080/"
        },
        "id": "CU90m7AUsTSr",
        "outputId": "a8f978d5-8386-4a4c-a78d-9cad0d0c8db0"
      },
      "source": [
        "import time as t\n",
        "tempo = t.time()\n",
        "def f10(x):\n",
        "  f = (-139.34411+((1.575701*(10**5))/x)-((6.642308*(10**7))/(x**2))+((1.243800*(10**10))/(x**3))-((8.621949*(10**11))/(x**4)))-np.log(10)\n",
        "  return f\n",
        "def g3linha(x):\n",
        "  f3_linha = (-157570.1/x**2)+(132846160.0/x**3)-(37314000000.0/x**4)+(3448779600000.0/x**5)\n",
        "  return f3_linha\n",
        "\n",
        "T0 = 273\n",
        "Tf = (273+40)\n",
        "\n",
        "# Variaveis\n",
        "eps1 = 0.05\n",
        "eps2 = eps1\n",
        "maxiter = 100 # Observar aqui \n",
        "lista   = [T0]\n",
        "iter    = 0\n",
        "\n",
        "# Método de Newton Concentração 10\n",
        "\n",
        "while (math.fabs(f10(T0))>eps1) and (iter<=maxiter): \n",
        "  #print('[',round(T0,3),']')\n",
        "  xl = T0 - f10(T0)/g3linha(T0)\n",
        "  lista.append(xl)\n",
        "  if (math.fabs(f10(T0))<eps1) or (math.fabs(xl-T0)<eps2):\n",
        "    break;\n",
        "  else:\n",
        "    T0 = xl  \n",
        "  iter = iter + 1\n",
        "\n",
        "print(\"Temperatura Desejada:\",round(xl,3))\n",
        "print('Número de iterações: ',iter)\n",
        "print('Precisao |f(xk)|: ',math.fabs(f10(xl)))\n",
        "tempoExec = t.time() - tempo\n",
        "print(f'Tempo de execução: {round(tempoExec,5)} segundos')"
      ],
      "execution_count": null,
      "outputs": [
        {
          "output_type": "stream",
          "text": [
            "Temperatura Desejada: 286.534\n",
            "Número de iterações:  1\n",
            "Precisao |f(xk)|:  0.043726182605330344\n",
            "Tempo de execução: 0.00116 segundos\n"
          ],
          "name": "stdout"
        }
      ]
    },
    {
      "cell_type": "code",
      "metadata": {
        "colab": {
          "base_uri": "https://localhost:8080/"
        },
        "id": "LRz-3ItOtzuA",
        "outputId": "e016d251-e75f-4779-f40c-68610cf9c21f"
      },
      "source": [
        "# Método de NR\n",
        "# # Código para encontrar a derivada da equação ALPHA\n",
        "import time as t\n",
        "tempo  = t.time()\n",
        "from sympy import*\n",
        "f,x = symbols('f x')\n",
        "init_printing(use_unicode= True)\n",
        "f = (-139.34411+((1.575701*(10**5))/x)-((6.642308*(10**7))/(x**2))+((1.243800*(10**10))/(x**3))-((8.621949*(10**11))/(x**4)))-ln(8)\n",
        "diff(f,x)\n",
        "\n",
        "def f12(x):\n",
        "  f = (-139.34411+((1.575701*(10**5))/x)-((6.642308*(10**7))/(x**2))+((1.243800*(10**10))/(x**3))-((8.621949*(10**11))/(x**4)))-np.log(12)\n",
        "  return f\n",
        "def g3linha(x):\n",
        "  f3_linha = (-157570.1/x**2)+(132846160.0/x**3)-(37314000000.0/x**4)+(3448779600000.0/x**5)\n",
        "  return f3_linha\n",
        "\n",
        "T0 = [273,273,273]\n",
        "Tf = []\n",
        "for i in range(len(T0)):\n",
        "  a = T0[i]+40\n",
        "  Tf.append(a)\n",
        "\n",
        "eps1 = 0.05\n",
        "eps2 = eps1\n",
        "maxiter = 100\n",
        "lista   = [T0]\n",
        "iter    = [0,0,0]\n",
        "\n",
        "# Metodo de Newton Concentração 12\n",
        "while (math.fabs(f12(T0[2]))>eps1) and (iter[2]<=maxiter): \n",
        "  print('[',round(T0[2],3),']')\n",
        "  xx = T0[2] - f12(T0[2])/g3linha(T0[2])\n",
        "  lista.append(xx)\n",
        "  if (math.fabs(f12(T0[2]))<eps1) and (math.fabs(xx[2]-T0[2])<eps2):\n",
        "    break;\n",
        "  else:\n",
        "    T0[2] = xx  \n",
        "  iter[2] = iter[2] + 1\n",
        "\n",
        "print(\"Temperatura Desejada:\",round(xx,3))\n",
        "print('Número de iterações: ',iter[2])\n",
        "print('Precisao |f(xk)|: ',math.fabs(f12(xx)))\n",
        "\n",
        "tempoExec = t.time() - tempo\n",
        "print(f'Tempo de execução: {round(tempoExec,5)} segundos')\n"
      ],
      "execution_count": null,
      "outputs": [
        {
          "output_type": "stream",
          "text": [
            "[ 273 ]\n",
            "Temperatura Desejada: 280.11\n",
            "Número de iterações:  1\n",
            "Precisao |f(xk)|:  0.012534107180245169\n",
            "Tempo de execução: 0.00416 segundos\n"
          ],
          "name": "stdout"
        }
      ]
    },
    {
      "cell_type": "markdown",
      "metadata": {
        "id": "wvwFA9BposNJ"
      },
      "source": [
        "###LETRA B\n",
        "\n",
        "$Bissecção:$ \n",
        "\n",
        "Tempo para o de 8: 0.00732 segundos\n",
        "\n",
        "Tempo para o de 10: 0.00722 segundos\n",
        "\n",
        "Tempo para o de 12: 0.00638 segundos$\n",
        "\n",
        "\n",
        "\n",
        "$Falsa \\ Posição:$\n",
        "\n",
        "Tempo para o de 8: 0.01112 segundos\n",
        "\n",
        "Tempo para o de 10: 0.00845 segundos\n",
        "\n",
        "Tempo para o de 12: 0.00811 segundos\n",
        "\n",
        "$Método \\ de \\ Newton-Raphson$\n",
        "\n",
        "Tempo para o de 8: 0.00195 segundos\n",
        "\n",
        "Tempo para o de 10: 0.00157 segundos\n",
        "\n",
        "Tempo para o de 12: 0.00391 segundos\n",
        "\n",
        "\n",
        "Dentre os três métodos o que possui o menor tempo para ser realizado é o método de Newton-Raphson. Isso pode estar relacionado com o fato de que esse método pediu o menor número de iterações dentre as nossas opções, sendo respectivamente: 2 , 1 e 1 iterações para as concentrações de 8, 10 e 12 mol/L. \n",
        "A seguir, ocupando o segundo lugar nesta categoria, temos que o método da Bissecção passa a ser mais rápido. Entretanto, como foi dito na atividade anterior, apesar de realizar um número menor de iterações, apresenta um erro maior. Dessa forma, é preciso entender qual o nosso real objetivo mais importante: não sobrecarregar a máquina ou então conseguir um resultado mais preciso. Com essa otimização e este objetivo, é possível escolher o método mais interessante ao usuário.\n",
        "\n",
        "\n"
      ]
    },
    {
      "cell_type": "markdown",
      "metadata": {
        "id": "7DwhaaxD5yz1"
      },
      "source": [
        "##Questão 02\n",
        "\n",
        "Considere o reator CSTR apresentado na Figura 4. O sistema opera em estado estacionário com reação $A + B \\rightarrow C$. Utilize o método de Newton-Raphson (NR) para determinar as concentrações dos reagentes A e B assumindo que o CSTR tem $T_{o} = 307k$  e vazão $F = 3\\space \\frac{m^{3}}{min}$. Os balanços para os reagentes A e B são dados abaixo:\n",
        "\n",
        "$F(C_{A0}-C_{A})-kC_{A}C_{B}V = 0$\n",
        "\n",
        "$F(C_{B0}-C_{B})-kC_{A}C_{B}V = 0$\n",
        "\n",
        "Em que $C_{A0}\\space e\\space C_{B0}$ são as concentrações de entrada dos reagentes A e B e iguais a $200 \\frac{mol}{m^{3}}$, V é o volume do reator e igual a $40\\space m^{3}$ e k a constante cinética de reação com o valor $0,0045863\\space \\frac{m^{3}}{mol\\space min}$. Use as concentrações de entrada dos reagentes como condições iniciais para o método NR e um erro relativo de $5%$"
      ]
    },
    {
      "cell_type": "code",
      "metadata": {
        "id": "tatwCSgK53rT",
        "colab": {
          "base_uri": "https://localhost:8080/"
        },
        "outputId": "0d96c05d-5c73-4a9f-80c2-b5128d8b5bff"
      },
      "source": [
        "# Código oficial\n",
        "import time as t\n",
        "tempo = t.time() # Inicializando uma contagem para verificar o tempo de execução do programa \n",
        "#admitir que Ca0 e Cb0 sao constantes\n",
        "V = 40 #m^3\n",
        "K = 0.0045863 #m^3/(mol*min) \n",
        "C = np.array([200,200]) #matriz com os pontos de partida\n",
        "F = 3 #m^3/min\n",
        "T = 307#K\n",
        "\n",
        "def CSTR(Ca):  #função inicial - F(x(k))\n",
        "  N = len(Ca)\n",
        "  Balanco = N*[0]\n",
        "  Balanco[0] = F*(C[0]-Ca[0])-K*Ca[0]*Ca[1]*V \n",
        "  Balanco[1] = F*(C[1]-Ca[1])-K*Ca[0]*Ca[1]*V\n",
        "  return Balanco\n",
        "\n",
        "def Jacobiano(Ca): # Derivada das equações fornecidas\n",
        "  A = [[0,0],[0,0]] \n",
        "  A[0][0] = -F-K*Ca[1]*V #Ca[1] é Cb\n",
        "  A[0][1] = -K*Ca[0]*V  #Ca[0] é Ca\n",
        "  A[1][0] = -K*Ca[1]*V\n",
        "  A[1][1] = -F-K*Ca[0]*V\n",
        "  return A\n",
        "\n",
        "max_iter = 50 #numero maximo de iteracoes\n",
        "iter = 1\n",
        "eps = 0.05 #Erro relativo 5% ou 0,05\n",
        "div = 10**20 # Para não permitir que o codigo vá para infinito, se exister erro\n",
        "\n",
        "while (iter <= max_iter): #inicio do laço\n",
        "  Valores = Jacobiano(C)\n",
        "  Valores = np.array(Valores)\n",
        "  b = CSTR(C)\n",
        "  b = np.array(b) \n",
        "  b = (-1*b) # Devemos multiplicar por -1, para corrigir a ordem da matriz B \n",
        "  s = np.linalg.solve(Valores,b) \n",
        "  x1 = np.array(C) + s\n",
        "  print(\"Iterações \",iter,\": \",x1) \n",
        "  if(np.linalg.norm(s,np.inf)<eps) or (np.linalg.norm(b,np.inf) <eps): \n",
        "    print(\"Convergiu\")\n",
        "    print(\"Precisão:\",np.round(np.linalg.norm(s,np.inf),3))\n",
        "    break\n",
        "  if(np.linalg.norm(b,np.inf) > div): \n",
        "    print(\"Divergiu\")\n",
        "    break\n",
        "  C = x1\n",
        "  iter = iter + 1\n",
        "#np.(s,np.inf) é equivalente a xk-x0\n",
        "print(\"Ca:\",C[0]) #Está imprimindo o penultimo valor \n",
        "print(\"Cb:\",C[1])\n",
        "tempoExec = t.time() - tempo\n",
        "print(f'Tempo de execução: {round(tempoExec,5)} segundos')"
      ],
      "execution_count": null,
      "outputs": [
        {
          "output_type": "stream",
          "text": [
            "Iterações  1 :  [103.92768863 103.92768863]\n",
            "Iterações  2 :  [55.75392226 55.75392226]\n",
            "Iterações  3 :  [31.4423466 31.4423466]\n",
            "Iterações  4 :  [18.96570225 18.96570225]\n",
            "Iterações  5 :  [12.33953541 12.33953541]\n",
            "Iterações  6 :  [8.62868339 8.62868339]\n",
            "Iterações  7 :  [6.41347213 6.41347213]\n",
            "Iterações  8 :  [5.0038549 5.0038549]\n",
            "Iterações  9 :  [4.05401268 4.05401268]\n",
            "Iterações  10 :  [3.38212817 3.38212817]\n",
            "Iterações  11 :  [2.88731315 2.88731315]\n",
            "Iterações  12 :  [2.5105643 2.5105643]\n",
            "Iterações  13 :  [2.21567893 2.21567893]\n",
            "Iterações  14 :  [1.97948106 1.97948106]\n",
            "Iterações  15 :  [1.78657329 1.78657329]\n",
            "Iterações  16 :  [1.62638999 1.62638999]\n",
            "Iterações  17 :  [1.49147379 1.49147379]\n",
            "Iterações  18 :  [1.37642961 1.37642961]\n",
            "Iterações  19 :  [1.27726875 1.27726875]\n",
            "Iterações  20 :  [1.19098512 1.19098512]\n",
            "Iterações  21 :  [1.11527421 1.11527421]\n",
            "Iterações  22 :  [1.04834226 1.04834226]\n",
            "Iterações  23 :  [0.98877385 0.98877385]\n",
            "Iterações  24 :  [0.93543824 0.93543824]\n",
            "Iterações  25 :  [0.88742199 0.88742199]\n",
            "Convergiu\n",
            "Precisão: 0.048\n",
            "Ca: 0.9354382359856539\n",
            "Cb: 0.9354382359855389\n",
            "Tempo de execução: 0.03888 segundos\n"
          ],
          "name": "stdout"
        }
      ]
    },
    {
      "cell_type": "markdown",
      "metadata": {
        "id": "QM3IUuBzcVGt"
      },
      "source": [
        "```python\n",
        "if(np.linalg.norm(s,np.inf)<eps) and (np.linalg.norm(b,np.inf) <eps):\n",
        "```\n",
        "Essa parte do código se refere a um criterio de parada, fazendo a norma de s em relação a infinito:\n",
        "\n",
        " $||x^{k+1}-x^{k}||_{\\infty}$ < $\\epsilon$\n",
        "\n",
        "```python\n",
        "(np.linalg.norm(b,np.inf) <eps):\n",
        "```\n",
        "Já este código a cima se refere ao seguinte critério de parada\n",
        "\n",
        "$F(x^{*})\\space=0 $\n",
        "\n",
        "$||F(x^{k})||_{infty}$ < $\\epsilon$\n",
        "\n"
      ]
    },
    {
      "cell_type": "markdown",
      "metadata": {
        "id": "JZ8JK_A656B2"
      },
      "source": [
        "## Questão 03\n",
        "\n",
        "Perdas friccionais ou de viscosidade no fluxo de líquidos em um cano resultam em quedas de pressão que devem ser superadas. Estas são expressas em termos de um fator de atrito, f.Para o fluxo turbulento em canos, f é calculado a partir da equação de Colebrook:\n",
        "\n",
        "$\\frac{1}{f^{0,5}}=-2log(\\frac{\\frac{e}{D}}{3,7}+\\frac{2,51}{(Re)f^{0,5}})$\n",
        "\n",
        "Onde $e$ é a aspereza,$D$ é o diâmetro do cano, e $Re$ é o número de Reynolds, que é adimensional. Para $\\frac{e}{D} \\space Re = 2*10^{5},$ resolva essa equação para $f$ usando ométodo da secante, usando $f^{-i}=0,001 e f_{0}=0,005,$ para um erro relativo de $1\\%$. "
      ]
    },
    {
      "cell_type": "code",
      "metadata": {
        "id": "GVrXu-qz2WVH",
        "colab": {
          "base_uri": "https://localhost:8080/"
        },
        "outputId": "42197175-27ed-434e-b971-e2131e0da97c"
      },
      "source": [
        "#EXERCICIO 3\n",
        "#MÉTODO DA SECANTE \n",
        "\n",
        "import matplotlib.pyplot as plt\n",
        "import numpy as np\n",
        "import math as math\n",
        "import time as t\n",
        "tempo = t.time()\n",
        "#inicialmente define-se a funcao abaixo:\n",
        "def f(x):\n",
        "  a = 0.004\n",
        "  Re = 2*(10**5)\n",
        "  z = (Re*((x)**(0.5)))\n",
        "  return (-2*math.log10((a/3.7)+(2.51/z))) - 1/((x)**0.5)\n",
        "\n",
        "\n",
        "x0 = 0.001 #chute inicial\n",
        "x1 = 0.005 #chute inicial\n",
        "eps1 = 0.01\n",
        "maxiter = 20\n",
        "lista   = [x0, x1]\n",
        "print('[',x0,']')\n",
        "print('[',x1,']')\n",
        "iter = 0\n",
        "x2 = []\n",
        "while True:  \n",
        "  x2 = x1 - f(x1)*((x1-x0)/(f(x1)-f(x0))) #equação principal do método - novas iterações\n",
        "  lista.append(x2)\n",
        "  print('[',x2,']')\n",
        "  y = f(x2)  \n",
        "  if (abs(f(x2-x0))<eps1)|(f(x2)==0): \n",
        "    break;\n",
        "    print(x2)\n",
        "  else:\n",
        "    x0 = x1\n",
        "    x1 = x2  \n",
        "  iter = iter + 1\n",
        "  \n",
        "\n",
        "print('O valor final de f (coeficiente de atrito) é', x2, 'e foi obtido após',iter,'iterações.')\n",
        "tempoExec = t.time() - tempo\n",
        "print(f'Tempo de execução: {round(tempoExec,5)} segundos')\n"
      ],
      "execution_count": null,
      "outputs": [
        {
          "output_type": "stream",
          "text": [
            "[ 0.001 ]\n",
            "[ 0.005 ]\n",
            "[ 0.0068937091117461 ]\n",
            "[ 0.01246405839866573 ]\n",
            "[ 0.018027493103404693 ]\n",
            "[ 0.023826290530406895 ]\n",
            "[ 0.027436459569589438 ]\n",
            "[ 0.02876378695684279 ]\n",
            "[ 0.02896426381885586 ]\n",
            "[ 0.028972563586082675 ]\n",
            "[ 0.028972608705375817 ]\n",
            "[ 0.028972608715122895 ]\n",
            "[ 0.028972608715122906 ]\n",
            "O valor final de f (coeficiente de atrito) é 0.028972608715122906 e foi obtido após 10 iterações.\n",
            "Tempo de execução: 0.00448 segundos\n"
          ],
          "name": "stdout"
        }
      ]
    }
  ]
}